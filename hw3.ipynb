{
 "cells": [
  {
   "cell_type": "markdown",
   "metadata": {},
   "source": [
    "### Парсинг файлов\n",
    "\n",
    "Каждая папка будет считываться по отдельности"
   ]
  },
  {
   "cell_type": "code",
   "execution_count": 2,
   "metadata": {},
   "outputs": [],
   "source": [
    "import os\n",
    "\n",
    "def get_messages(dir):\n",
    "    res = []\n",
    "    for file in os.listdir(dir):\n",
    "        with open(f'{dir}/{file}') as f:\n",
    "            subject, _ , text = f.readlines()\n",
    "            subject = ' '.join(subject.split()[1:])\n",
    "            res.append((subject, text, 'legit' if 'legit' in file else 'spam'))\n",
    "    return res"
   ]
  },
  {
   "cell_type": "markdown",
   "metadata": {},
   "source": [
    "Здесь получим все сообщения из всех папок, у каждого сообщения отдельно есть поля `subject, text, class == legit, part`"
   ]
  },
  {
   "cell_type": "code",
   "execution_count": 3,
   "metadata": {},
   "outputs": [],
   "source": [
    "messages = []\n",
    "\n",
    "for part in os.listdir('messages'):\n",
    "    messages.extend(map(lambda x: x + (part, ), get_messages(f'messages/{part}')))"
   ]
  },
  {
   "cell_type": "code",
   "execution_count": 4,
   "metadata": {},
   "outputs": [
    {
     "name": "stderr",
     "output_type": "stream",
     "text": [
      "C:\\Users\\Alexey\\AppData\\Local\\Temp\\ipykernel_33476\\3134342701.py:1: DeprecationWarning: \n",
      "Pyarrow will become a required dependency of pandas in the next major release of pandas (pandas 3.0),\n",
      "(to allow more performant data types, such as the Arrow string type, and better interoperability with other libraries)\n",
      "but was not found to be installed on your system.\n",
      "If this would cause problems for you,\n",
      "please provide us feedback at https://github.com/pandas-dev/pandas/issues/54466\n",
      "        \n",
      "  import pandas as pd\n"
     ]
    },
    {
     "data": {
      "text/html": [
       "<div>\n",
       "<style scoped>\n",
       "    .dataframe tbody tr th:only-of-type {\n",
       "        vertical-align: middle;\n",
       "    }\n",
       "\n",
       "    .dataframe tbody tr th {\n",
       "        vertical-align: top;\n",
       "    }\n",
       "\n",
       "    .dataframe thead th {\n",
       "        text-align: right;\n",
       "    }\n",
       "</style>\n",
       "<table border=\"1\" class=\"dataframe\">\n",
       "  <thead>\n",
       "    <tr style=\"text-align: right;\">\n",
       "      <th></th>\n",
       "      <th>subject</th>\n",
       "      <th>text</th>\n",
       "      <th>target</th>\n",
       "      <th>part</th>\n",
       "    </tr>\n",
       "  </thead>\n",
       "  <tbody>\n",
       "    <tr>\n",
       "      <th>0</th>\n",
       "      <td>14486</td>\n",
       "      <td>14486 80 196 64 1896 8962 14328 2130 16502 921...</td>\n",
       "      <td>spam</td>\n",
       "      <td>part1</td>\n",
       "    </tr>\n",
       "    <tr>\n",
       "      <th>1</th>\n",
       "      <td>12091 16398 21903 1408 62 2547 10546 3295 2410</td>\n",
       "      <td>86 86 86 86 86 86 86 86 86 86 86 86 86 86 86 8...</td>\n",
       "      <td>spam</td>\n",
       "      <td>part1</td>\n",
       "    </tr>\n",
       "    <tr>\n",
       "      <th>2</th>\n",
       "      <td>2056 118 4053 47</td>\n",
       "      <td>19071 80 2176 13472 9669 180 22481 6308 61 405...</td>\n",
       "      <td>spam</td>\n",
       "      <td>part1</td>\n",
       "    </tr>\n",
       "    <tr>\n",
       "      <th>3</th>\n",
       "      <td>1692 17345 10936 2130 9131 14544 2008 14471 22...</td>\n",
       "      <td>16735 16721 2843 1835 16857 76 76 76 76 76 76 ...</td>\n",
       "      <td>spam</td>\n",
       "      <td>part1</td>\n",
       "    </tr>\n",
       "    <tr>\n",
       "      <th>4</th>\n",
       "      <td>23340 1967 12372 1967 130 23172 9887</td>\n",
       "      <td>19054 7634 1847 2130 6049 130 9887 2130 20010 ...</td>\n",
       "      <td>legit</td>\n",
       "      <td>part1</td>\n",
       "    </tr>\n",
       "    <tr>\n",
       "      <th>...</th>\n",
       "      <td>...</td>\n",
       "      <td>...</td>\n",
       "      <td>...</td>\n",
       "      <td>...</td>\n",
       "    </tr>\n",
       "    <tr>\n",
       "      <th>1085</th>\n",
       "      <td>2056 118 11457 17524 15836 68 11521 47 47 47 4...</td>\n",
       "      <td>16733 19054 118 6306 118 86 86 17212 84 1672 8...</td>\n",
       "      <td>legit</td>\n",
       "      <td>part9</td>\n",
       "    </tr>\n",
       "    <tr>\n",
       "      <th>1086</th>\n",
       "      <td>4053 4074 4532</td>\n",
       "      <td>10179 1968 15193 1812 17345 21366 16502 17154 ...</td>\n",
       "      <td>spam</td>\n",
       "      <td>part9</td>\n",
       "    </tr>\n",
       "    <tr>\n",
       "      <th>1087</th>\n",
       "      <td>2056 118 21215 1662 1835 10470</td>\n",
       "      <td>284 13383 80 127 24731 2328 2130 130 21196 84 ...</td>\n",
       "      <td>legit</td>\n",
       "      <td>part9</td>\n",
       "    </tr>\n",
       "    <tr>\n",
       "      <th>1088</th>\n",
       "      <td>20787</td>\n",
       "      <td>183 180 205 205 191 214 227 219 180 219 190 22...</td>\n",
       "      <td>legit</td>\n",
       "      <td>part9</td>\n",
       "    </tr>\n",
       "    <tr>\n",
       "      <th>1089</th>\n",
       "      <td>14444 118</td>\n",
       "      <td>23422 22913 5987 13520 59 819 84 951 15845 492...</td>\n",
       "      <td>spam</td>\n",
       "      <td>part9</td>\n",
       "    </tr>\n",
       "  </tbody>\n",
       "</table>\n",
       "<p>1090 rows × 4 columns</p>\n",
       "</div>"
      ],
      "text/plain": [
       "                                                subject  \\\n",
       "0                                                 14486   \n",
       "1        12091 16398 21903 1408 62 2547 10546 3295 2410   \n",
       "2                                      2056 118 4053 47   \n",
       "3     1692 17345 10936 2130 9131 14544 2008 14471 22...   \n",
       "4                  23340 1967 12372 1967 130 23172 9887   \n",
       "...                                                 ...   \n",
       "1085  2056 118 11457 17524 15836 68 11521 47 47 47 4...   \n",
       "1086                                     4053 4074 4532   \n",
       "1087                     2056 118 21215 1662 1835 10470   \n",
       "1088                                              20787   \n",
       "1089                                          14444 118   \n",
       "\n",
       "                                                   text target   part  \n",
       "0     14486 80 196 64 1896 8962 14328 2130 16502 921...   spam  part1  \n",
       "1     86 86 86 86 86 86 86 86 86 86 86 86 86 86 86 8...   spam  part1  \n",
       "2     19071 80 2176 13472 9669 180 22481 6308 61 405...   spam  part1  \n",
       "3     16735 16721 2843 1835 16857 76 76 76 76 76 76 ...   spam  part1  \n",
       "4     19054 7634 1847 2130 6049 130 9887 2130 20010 ...  legit  part1  \n",
       "...                                                 ...    ...    ...  \n",
       "1085  16733 19054 118 6306 118 86 86 17212 84 1672 8...  legit  part9  \n",
       "1086  10179 1968 15193 1812 17345 21366 16502 17154 ...   spam  part9  \n",
       "1087  284 13383 80 127 24731 2328 2130 130 21196 84 ...  legit  part9  \n",
       "1088  183 180 205 205 191 214 227 219 180 219 190 22...  legit  part9  \n",
       "1089  23422 22913 5987 13520 59 819 84 951 15845 492...   spam  part9  \n",
       "\n",
       "[1090 rows x 4 columns]"
      ]
     },
     "execution_count": 4,
     "metadata": {},
     "output_type": "execute_result"
    }
   ],
   "source": [
    "import pandas as pd\n",
    "\n",
    "X = pd.DataFrame(messages, columns=['subject', 'text', 'target', 'part'])\n",
    "X"
   ]
  },
  {
   "cell_type": "code",
   "execution_count": 5,
   "metadata": {},
   "outputs": [
    {
     "data": {
      "text/plain": [
       "<Axes: >"
      ]
     },
     "execution_count": 5,
     "metadata": {},
     "output_type": "execute_result"
    },
    {
     "data": {
      "image/png": "[encoded data removed]",
      "text/plain": [
       "<Figure size 640x480 with 1 Axes>"
      ]
     },
     "metadata": {},
     "output_type": "display_data"
    }
   ],
   "source": [
    "X['target'].hist()"
   ]
  },
  {
   "cell_type": "code",
   "execution_count": 6,
   "metadata": {},
   "outputs": [
    {
     "data": {
      "text/plain": [
       "part\n",
       "part1     109\n",
       "part10    109\n",
       "part2     109\n",
       "part3     109\n",
       "part4     109\n",
       "part5     109\n",
       "part6     109\n",
       "part7     109\n",
       "part8     109\n",
       "part9     109\n",
       "Name: count, dtype: int64"
      ]
     },
     "execution_count": 6,
     "metadata": {},
     "output_type": "execute_result"
    }
   ],
   "source": [
    "X['part'].value_counts()"
   ]
  },
  {
   "cell_type": "markdown",
   "metadata": {},
   "source": [
    "Для любого предложения создаем n-грамм (упорядоченная последовательность слов), и для каждого subject и text создаем разреженный вектор."
   ]
  },
  {
   "cell_type": "code",
   "execution_count": 7,
   "metadata": {},
   "outputs": [],
   "source": [
    "from sklearn.feature_extraction.text import CountVectorizer\n",
    "import numpy as np\n",
    "\n",
    "def vectorize_data(X_, columns, vectorizer=None):\n",
    "    if vectorizer is None:\n",
    "        vectorizer = CountVectorizer(lowercase=False, ngram_range=(1, 3))\n",
    "        vectorizer.fit(pd.concat([X_[col] for col in columns], axis=0))\n",
    "    return np.array([vectorizer.transform(X_[col]).toarray() for col in columns], dtype=np.bool_).transpose((1, 0, 2)), vectorizer"
   ]
  },
  {
   "cell_type": "code",
   "execution_count": 8,
   "metadata": {},
   "outputs": [
    {
     "data": {
      "text/plain": [
       "(1090, 2, 546982)"
      ]
     },
     "execution_count": 8,
     "metadata": {},
     "output_type": "execute_result"
    }
   ],
   "source": [
    "text_columns = ['subject', 'text']\n",
    "(data, vectorizer), target = vectorize_data(X, text_columns), X['target']\n",
    "data.shape"
   ]
  },
  {
   "cell_type": "code",
   "execution_count": 9,
   "metadata": {},
   "outputs": [],
   "source": [
    "class SpamClassifier:\n",
    "    def __init__(self, alpha=1.0, pos_penalty=0.5, neg_penalty=0.5, pos_label=None, classes=None):\n",
    "        self.alpha = alpha\n",
    "        self.lambda_ = np.array([pos_penalty, neg_penalty])\n",
    "        self.pos_label = pos_label\n",
    "        self.classes_ = classes\n",
    "\n",
    "    def fit(self, X, y):\n",
    "        self.is_fitted_ = True\n",
    "        self.classes_ = np.unique(y) if self.classes_ is None else self.classes_\n",
    "        n_classes, n = len(self.classes_), X.shape[-1]\n",
    "\n",
    "        self.class_log_prior_ = np.log(np.array([(y == c).sum() / len(y) for c in self.classes_]))\n",
    "        self.feature_log_prob_ = np.zeros((n_classes, 2, n))\n",
    "        for i, class_ in enumerate(self.classes_):\n",
    "            y_c = y == class_\n",
    "            X_c = X[y_c]\n",
    "            self.feature_log_prob_[i] = np.log((X_c.sum(axis=0) + self.alpha) / (y_c.shape[0] + 2 * self.alpha))\n",
    "        return self\n",
    "    \n",
    "    def predict_log_proba(self, X):\n",
    "        out = self.class_log_prior_ * self.lambda_ + \\\n",
    "            np.einsum('bjk,cjk->bc', X == 1, self.feature_log_prob_) - \\\n",
    "            np.einsum('bjk,cjk->bc', X == 0, np.log(1 - np.exp(self.feature_log_prob_)))\n",
    "        return out \n",
    "    \n",
    "    def predict(self, X):\n",
    "        log_probs = self.predict_log_proba(X)\n",
    "        return self.classes_[np.argmax(log_probs, axis=1)]\n",
    "        "
   ]
  },
  {
   "cell_type": "code",
   "execution_count": 10,
   "metadata": {},
   "outputs": [
    {
     "data": {
      "text/plain": [
       "<__main__.SpamClassifier at 0x1f329c6cdf0>"
      ]
     },
     "execution_count": 10,
     "metadata": {},
     "output_type": "execute_result"
    }
   ],
   "source": [
    "clf = SpamClassifier(alpha=1.0, pos_label='spam')\n",
    "clf.fit(data, target)"
   ]
  },
  {
   "cell_type": "code",
   "execution_count": 11,
   "metadata": {},
   "outputs": [
    {
     "data": {
      "text/plain": [
       "<sklearn.metrics._plot.roc_curve.RocCurveDisplay at 0x1f329c6d960>"
      ]
     },
     "execution_count": 11,
     "metadata": {},
     "output_type": "execute_result"
    },
    {
     "data": {
      "image/png": "[encoded data removed]",
      "text/plain": [
       "<Figure size 640x480 with 1 Axes>"
      ]
     },
     "metadata": {},
     "output_type": "display_data"
    }
   ],
   "source": [
    "from sklearn.metrics import RocCurveDisplay\n",
    "\n",
    "RocCurveDisplay.from_predictions(np.where(target == 'spam', 1, 0), \n",
    "                                 np.where(clf.predict(data) == 'spam', 1, 0))"
   ]
  },
  {
   "cell_type": "markdown",
   "metadata": {},
   "source": [
    "Здесь получим все различные разбиения для кросс-валидации: `part1,2,3...` в `test_data`, все остальное - `train`"
   ]
  },
  {
   "cell_type": "code",
   "execution_count": 12,
   "metadata": {},
   "outputs": [
    {
     "name": "stdout",
     "output_type": "stream",
     "text": [
      "part1\n",
      "part10\n",
      "part2\n",
      "part3\n",
      "part4\n",
      "part5\n",
      "part6\n",
      "part7\n",
      "part8\n",
      "part9\n"
     ]
    }
   ],
   "source": [
    "k_fold = {}\n",
    "n = 109\n",
    "for i, part in enumerate(os.listdir('messages')):\n",
    "    print(part)\n",
    "\n",
    "    X_train, y_train = data[~np.in1d(np.arange(len(data)), (np.r_[i * n:(i + 1) * n]))], \\\n",
    "        target[~np.in1d(np.arange(len(data)), (np.r_[i * n:(i + 1) * n]))]\n",
    "    \n",
    "    X_test, y_test = data[i * n:(i + 1) * n], target[i * n:(i + 1) * n]\n",
    "\n",
    "    k_fold[part] = (X_train, y_train), (X_test, y_test)"
   ]
  },
  {
   "cell_type": "code",
   "execution_count": 13,
   "metadata": {},
   "outputs": [],
   "source": [
    "from sklearn.metrics import accuracy_score, recall_score\n",
    "from sklearn.metrics import confusion_matrix\n",
    "\n",
    "def fold_validation(train, test, **params):\n",
    "    # Training\n",
    "    clf = SpamClassifier(**params)\n",
    "    clf.fit(*train)\n",
    "    \n",
    "    # Testing\n",
    "    X_test, y_test = test\n",
    "    y_true, y_pred = np.where(y_test == params['pos_label'], 1, 0), np.where(clf.predict(X_test) == params['pos_label'], 1, 0)\n",
    "    return confusion_matrix(y_true, y_pred)[0][1], accuracy_score(y_true, y_pred)"
   ]
  },
  {
   "cell_type": "markdown",
   "metadata": {},
   "source": [
    "В следующей ячейке мы проверяем, что мы предсказываем, письмо является ли легитимным (pos_label='legit')\n",
    "\n",
    "Функция `fold_validation` выше возвращает `число FN` и `accuracy score` для одного разделения k-fold."
   ]
  },
  {
   "cell_type": "code",
   "execution_count": 14,
   "metadata": {},
   "outputs": [
    {
     "data": {
      "text/plain": [
       "(array([0., 0., 0., 0., 0., 0., 0., 0., 0., 0.]), 0.9192660550458716)"
      ]
     },
     "execution_count": 14,
     "metadata": {},
     "output_type": "execute_result"
    }
   ],
   "source": [
    "fn_counts, score = np.array([fold_validation(*k_fold[part], pos_penalty=211, neg_penalty=1, \n",
    "                          pos_label='legit', classes=np.array(['legit', 'spam']),\n",
    "                          alpha=0.3) for part in k_fold]).T\n",
    "fn_counts, np.mean(score)"
   ]
  },
  {
   "cell_type": "code",
   "execution_count": 15,
   "metadata": {},
   "outputs": [
    {
     "name": "stdout",
     "output_type": "stream",
     "text": [
      "Точность предсказания при перекрестной проверке - accuracy=0.9192660550458716\n"
     ]
    }
   ],
   "source": [
    "print(f'Точность предсказания при перекрестной проверке - accuracy={np.mean(score)}')"
   ]
  },
  {
   "cell_type": "markdown",
   "metadata": {},
   "source": [
    "Теперь мы не хотим пропускать никаких легитимных писем (то есть важнее не пропустить легитимное письмо, чем назвать спам-письмо легитимным).\n",
    "\n",
    "Соответственно, мы пытаемся приписывать позитивному классу как можно меньше негативных классов, или по-другому делать меньше ложноотрицательных ошибок (false negative, FN)."
   ]
  },
  {
   "cell_type": "code",
   "execution_count": 16,
   "metadata": {},
   "outputs": [],
   "source": [
    "spam_penalty = 1\n",
    "min_fn_params = X.shape[0], 0, 1\n",
    "scores = []\n",
    "for legit_penalty in np.arange(1, 220, 10):\n",
    "    fn_counts, score = np.array([fold_validation(*k_fold[part],\n",
    "                                                  pos_penalty=legit_penalty,\n",
    "                                                  neg_penalty=spam_penalty,\n",
    "                                                  pos_label='legit',\n",
    "                                                  classes=np.array(['legit', 'spam']),\n",
    "                                                  alpha=0.01) for part in k_fold]).T\n",
    "    scores.append((np.sum(fn_counts), np.mean(score)))"
   ]
  },
  {
   "cell_type": "code",
   "execution_count": 17,
   "metadata": {},
   "outputs": [
    {
     "data": {
      "text/plain": [
       "[(5.0, 0.9871559633027523),\n",
       " (5.0, 0.9871559633027523),\n",
       " (5.0, 0.9871559633027523),\n",
       " (5.0, 0.9844036697247708),\n",
       " (4.0, 0.98348623853211),\n",
       " (3.0, 0.9844036697247708),\n",
       " (3.0, 0.9825688073394497),\n",
       " (3.0, 0.9825688073394497),\n",
       " (3.0, 0.9788990825688074),\n",
       " (3.0, 0.9761467889908259),\n",
       " (3.0, 0.9743119266055047),\n",
       " (2.0, 0.9733944954128442),\n",
       " (2.0, 0.9733944954128442),\n",
       " (2.0, 0.9715596330275231),\n",
       " (1.0, 0.9715596330275231),\n",
       " (1.0, 0.9688073394495411),\n",
       " (1.0, 0.9660550458715595),\n",
       " (1.0, 0.9633027522935779),\n",
       " (1.0, 0.9633027522935779),\n",
       " (1.0, 0.9623853211009173),\n",
       " (0.0, 0.9633027522935779),\n",
       " (0.0, 0.9605504587155963)]"
      ]
     },
     "execution_count": 17,
     "metadata": {},
     "output_type": "execute_result"
    }
   ],
   "source": [
    "scores"
   ]
  },
  {
   "cell_type": "code",
   "execution_count": 23,
   "metadata": {},
   "outputs": [
    {
     "data": {
      "image/png": "[encoded data removed]",
      "text/plain": [
       "<Figure size 640x480 with 1 Axes>"
      ]
     },
     "metadata": {},
     "output_type": "display_data"
    },
    {
     "data": {
      "text/plain": [
       "Text(0.5, 0, 'legit_penalty')"
      ]
     },
     "execution_count": 23,
     "metadata": {},
     "output_type": "execute_result"
    },
    {
     "data": {
      "image/png": "[encoded data removed]",
      "text/plain": [
       "<Figure size 640x480 with 1 Axes>"
      ]
     },
     "metadata": {},
     "output_type": "display_data"
    }
   ],
   "source": [
    "import matplotlib.pyplot as plt\n",
    "\n",
    "scores = np.array(scores)\n",
    "plt.plot(np.arange(1, 220, 10), scores.T[0])\n",
    "plt.ylabel('Count FN')\n",
    "plt.xlabel('legit_penalty')\n",
    "plt.show()\n",
    "\n",
    "plt.plot(np.arange(1, 220, 10), scores.T[1])\n",
    "plt.ylabel('Average accuracy score')\n",
    "plt.xlabel('legit_penalty')"
   ]
  },
  {
   "cell_type": "markdown",
   "metadata": {},
   "source": [
    "Как можно видеть, вместе с падением ошибок FN падает и точность модели. "
   ]
  }
 ],
 "metadata": {
  "kernelspec": {
   "display_name": "Python (pyenv)",
   "language": "python",
   "name": "pyenv"
  },
  "language_info": {
   "codemirror_mode": {
    "name": "ipython",
    "version": 3
   },
   "file_extension": ".py",
   "mimetype": "text/x-python",
   "name": "python",
   "nbconvert_exporter": "python",
   "pygments_lexer": "ipython3",
   "version": "3.10.2"
  }
 },
 "nbformat": 4,
 "nbformat_minor": 2
}
