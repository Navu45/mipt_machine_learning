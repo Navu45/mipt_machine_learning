{
 "cells": [
  {
   "cell_type": "markdown",
   "metadata": {},
   "source": [
    "### Парсинг файлов\n",
    "\n",
    "Каждая папка будет считываться по отдельности"
   ]
  },
  {
   "cell_type": "code",
   "execution_count": 30,
   "metadata": {},
   "outputs": [],
   "source": [
    "import os\n",
    "\n",
    "def get_messages(dir):\n",
    "    res = []\n",
    "    for file in os.listdir(dir):\n",
    "        with open(f'{dir}/{file}') as f:\n",
    "            subject, _ , text = f.readlines()\n",
    "            subject = ' '.join(subject.split()[1:])\n",
    "            res.append((subject, text, 'legit' if 'legit' in file else 'spam'))\n",
    "    return res"
   ]
  },
  {
   "cell_type": "markdown",
   "metadata": {},
   "source": [
    "Здесь получим все сообщения из всех папок, у каждого сообщения отдельно есть поля `subject, text, class == legit, part`"
   ]
  },
  {
   "cell_type": "code",
   "execution_count": 31,
   "metadata": {},
   "outputs": [],
   "source": [
    "messages = []\n",
    "\n",
    "for part in os.listdir('messages'):\n",
    "    messages.extend(map(lambda x: x + (part, ), get_messages(f'messages/{part}')))"
   ]
  },
  {
   "cell_type": "code",
   "execution_count": 32,
   "metadata": {},
   "outputs": [
    {
     "data": {
      "text/html": [
       "<div>\n",
       "<style scoped>\n",
       "    .dataframe tbody tr th:only-of-type {\n",
       "        vertical-align: middle;\n",
       "    }\n",
       "\n",
       "    .dataframe tbody tr th {\n",
       "        vertical-align: top;\n",
       "    }\n",
       "\n",
       "    .dataframe thead th {\n",
       "        text-align: right;\n",
       "    }\n",
       "</style>\n",
       "<table border=\"1\" class=\"dataframe\">\n",
       "  <thead>\n",
       "    <tr style=\"text-align: right;\">\n",
       "      <th></th>\n",
       "      <th>subject</th>\n",
       "      <th>text</th>\n",
       "      <th>target</th>\n",
       "      <th>part</th>\n",
       "    </tr>\n",
       "  </thead>\n",
       "  <tbody>\n",
       "    <tr>\n",
       "      <th>0</th>\n",
       "      <td>14486</td>\n",
       "      <td>14486 80 196 64 1896 8962 14328 2130 16502 921...</td>\n",
       "      <td>spam</td>\n",
       "      <td>part1</td>\n",
       "    </tr>\n",
       "    <tr>\n",
       "      <th>1</th>\n",
       "      <td>12091 16398 21903 1408 62 2547 10546 3295 2410</td>\n",
       "      <td>86 86 86 86 86 86 86 86 86 86 86 86 86 86 86 8...</td>\n",
       "      <td>spam</td>\n",
       "      <td>part1</td>\n",
       "    </tr>\n",
       "    <tr>\n",
       "      <th>2</th>\n",
       "      <td>2056 118 4053 47</td>\n",
       "      <td>19071 80 2176 13472 9669 180 22481 6308 61 405...</td>\n",
       "      <td>spam</td>\n",
       "      <td>part1</td>\n",
       "    </tr>\n",
       "    <tr>\n",
       "      <th>3</th>\n",
       "      <td>1692 17345 10936 2130 9131 14544 2008 14471 22...</td>\n",
       "      <td>16735 16721 2843 1835 16857 76 76 76 76 76 76 ...</td>\n",
       "      <td>spam</td>\n",
       "      <td>part1</td>\n",
       "    </tr>\n",
       "    <tr>\n",
       "      <th>4</th>\n",
       "      <td>23340 1967 12372 1967 130 23172 9887</td>\n",
       "      <td>19054 7634 1847 2130 6049 130 9887 2130 20010 ...</td>\n",
       "      <td>legit</td>\n",
       "      <td>part1</td>\n",
       "    </tr>\n",
       "    <tr>\n",
       "      <th>...</th>\n",
       "      <td>...</td>\n",
       "      <td>...</td>\n",
       "      <td>...</td>\n",
       "      <td>...</td>\n",
       "    </tr>\n",
       "    <tr>\n",
       "      <th>1085</th>\n",
       "      <td>2056 118 11457 17524 15836 68 11521 47 47 47 4...</td>\n",
       "      <td>16733 19054 118 6306 118 86 86 17212 84 1672 8...</td>\n",
       "      <td>legit</td>\n",
       "      <td>part9</td>\n",
       "    </tr>\n",
       "    <tr>\n",
       "      <th>1086</th>\n",
       "      <td>4053 4074 4532</td>\n",
       "      <td>10179 1968 15193 1812 17345 21366 16502 17154 ...</td>\n",
       "      <td>spam</td>\n",
       "      <td>part9</td>\n",
       "    </tr>\n",
       "    <tr>\n",
       "      <th>1087</th>\n",
       "      <td>2056 118 21215 1662 1835 10470</td>\n",
       "      <td>284 13383 80 127 24731 2328 2130 130 21196 84 ...</td>\n",
       "      <td>legit</td>\n",
       "      <td>part9</td>\n",
       "    </tr>\n",
       "    <tr>\n",
       "      <th>1088</th>\n",
       "      <td>20787</td>\n",
       "      <td>183 180 205 205 191 214 227 219 180 219 190 22...</td>\n",
       "      <td>legit</td>\n",
       "      <td>part9</td>\n",
       "    </tr>\n",
       "    <tr>\n",
       "      <th>1089</th>\n",
       "      <td>14444 118</td>\n",
       "      <td>23422 22913 5987 13520 59 819 84 951 15845 492...</td>\n",
       "      <td>spam</td>\n",
       "      <td>part9</td>\n",
       "    </tr>\n",
       "  </tbody>\n",
       "</table>\n",
       "<p>1090 rows × 4 columns</p>\n",
       "</div>"
      ],
      "text/plain": [
       "                                                subject  \\\n",
       "0                                                 14486   \n",
       "1        12091 16398 21903 1408 62 2547 10546 3295 2410   \n",
       "2                                      2056 118 4053 47   \n",
       "3     1692 17345 10936 2130 9131 14544 2008 14471 22...   \n",
       "4                  23340 1967 12372 1967 130 23172 9887   \n",
       "...                                                 ...   \n",
       "1085  2056 118 11457 17524 15836 68 11521 47 47 47 4...   \n",
       "1086                                     4053 4074 4532   \n",
       "1087                     2056 118 21215 1662 1835 10470   \n",
       "1088                                              20787   \n",
       "1089                                          14444 118   \n",
       "\n",
       "                                                   text target   part  \n",
       "0     14486 80 196 64 1896 8962 14328 2130 16502 921...   spam  part1  \n",
       "1     86 86 86 86 86 86 86 86 86 86 86 86 86 86 86 8...   spam  part1  \n",
       "2     19071 80 2176 13472 9669 180 22481 6308 61 405...   spam  part1  \n",
       "3     16735 16721 2843 1835 16857 76 76 76 76 76 76 ...   spam  part1  \n",
       "4     19054 7634 1847 2130 6049 130 9887 2130 20010 ...  legit  part1  \n",
       "...                                                 ...    ...    ...  \n",
       "1085  16733 19054 118 6306 118 86 86 17212 84 1672 8...  legit  part9  \n",
       "1086  10179 1968 15193 1812 17345 21366 16502 17154 ...   spam  part9  \n",
       "1087  284 13383 80 127 24731 2328 2130 130 21196 84 ...  legit  part9  \n",
       "1088  183 180 205 205 191 214 227 219 180 219 190 22...  legit  part9  \n",
       "1089  23422 22913 5987 13520 59 819 84 951 15845 492...   spam  part9  \n",
       "\n",
       "[1090 rows x 4 columns]"
      ]
     },
     "execution_count": 32,
     "metadata": {},
     "output_type": "execute_result"
    }
   ],
   "source": [
    "import pandas as pd\n",
    "\n",
    "X = pd.DataFrame(messages, columns=['subject', 'text', 'target', 'part'])\n",
    "X"
   ]
  },
  {
   "cell_type": "code",
   "execution_count": 33,
   "metadata": {},
   "outputs": [
    {
     "data": {
      "text/plain": [
       "<Axes: >"
      ]
     },
     "execution_count": 33,
     "metadata": {},
     "output_type": "execute_result"
    },
    {
     "data": {
      "image/png": "[encoded data removed]",
      "text/plain": [
       "<Figure size 640x480 with 1 Axes>"
      ]
     },
     "metadata": {},
     "output_type": "display_data"
    }
   ],
   "source": [
    "X['target'].hist()"
   ]
  },
  {
   "cell_type": "markdown",
   "metadata": {},
   "source": [
    "Для любого предложения создаем n-грамм (упорядоченная последовательность слов), и для каждого subject и text создаем разреженный вектор."
   ]
  },
  {
   "cell_type": "code",
   "execution_count": 34,
   "metadata": {},
   "outputs": [],
   "source": [
    "from sklearn.feature_extraction.text import CountVectorizer\n",
    "import numpy as np\n",
    "\n",
    "def vectorize_data(X_, columns, vectorizer=None):\n",
    "    if vectorizer is None:\n",
    "        vectorizer = CountVectorizer(lowercase=False, ngram_range=(1, 3))\n",
    "        vectorizer.fit(pd.concat([X_[col] for col in columns], axis=0))\n",
    "    return np.array([vectorizer.transform(X_[col]).toarray() for col in columns]).transpose((1, 0, 2)), vectorizer"
   ]
  },
  {
   "cell_type": "code",
   "execution_count": 35,
   "metadata": {},
   "outputs": [],
   "source": [
    "text_columns = ['subject', 'text']\n",
    "(data, vectorizer), target = vectorize_data(X, text_columns), X['target']"
   ]
  },
  {
   "cell_type": "code",
   "execution_count": 36,
   "metadata": {},
   "outputs": [],
   "source": [
    "class SpamClassifier:\n",
    "    def __init__(self, alpha=1.0, pos_penalty=0.5, neg_penalty=0.5, pos_label=None):\n",
    "        self.alpha = alpha\n",
    "        self.lambda_ = np.array([pos_penalty, neg_penalty])\n",
    "        self.pos_label = pos_label\n",
    "\n",
    "    def fit(self, X, y):\n",
    "        self.is_fitted_ = True\n",
    "        self.classes_ = np.unique(y)\n",
    "        if self.classes_[0] != self.pos_label:\n",
    "            self.classes_ = self.classes_[::-1]\n",
    "        n_classes, n = len(self.classes_), X.shape[-1]\n",
    "\n",
    "        self.class_log_prior_ = np.log(np.array([(y == c).mean() for c in self.classes_]))\n",
    "        self.feature_log_prob_ = np.zeros((n_classes, 2, n))\n",
    "        \n",
    "        for i, class_ in enumerate(self.classes_):\n",
    "            y_c = y == class_\n",
    "            X_c = X[y_c]\n",
    "            self.feature_log_prob_[i] = np.log((X_c.sum(axis=0) + self.alpha) / (y_c.shape[0] + 2 * self.alpha))\n",
    "\n",
    "        return self\n",
    "    \n",
    "    def predict_log_proba(self, X):\n",
    "        out = self.class_log_prior_ + \\\n",
    "            np.einsum('bjk,cjk->bc', X == 1, self.feature_log_prob_) - \\\n",
    "            np.einsum('bjk,cjk->bc', X == 0, np.log(1 + np.exp(self.feature_log_prob_)))\n",
    "        return out * self.lambda_\n",
    "    \n",
    "    def predict(self, X):\n",
    "        log_probs = self.predict_log_proba(X)\n",
    "        return self.classes_[np.argmax(log_probs, axis=1)]\n",
    "        "
   ]
  },
  {
   "cell_type": "code",
   "execution_count": 37,
   "metadata": {},
   "outputs": [
    {
     "data": {
      "text/plain": [
       "<__main__.SpamClassifier at 0x1c182d27fb0>"
      ]
     },
     "execution_count": 37,
     "metadata": {},
     "output_type": "execute_result"
    }
   ],
   "source": [
    "clf = SpamClassifier(alpha=1.0, pos_label='spam')\n",
    "clf.fit(data, target)"
   ]
  },
  {
   "cell_type": "code",
   "execution_count": 38,
   "metadata": {},
   "outputs": [
    {
     "data": {
      "text/plain": [
       "<sklearn.metrics._plot.roc_curve.RocCurveDisplay at 0x1c182d6c560>"
      ]
     },
     "execution_count": 38,
     "metadata": {},
     "output_type": "execute_result"
    },
    {
     "data": {
      "image/png": "[encoded data removed]",
      "text/plain": [
       "<Figure size 640x480 with 1 Axes>"
      ]
     },
     "metadata": {},
     "output_type": "display_data"
    }
   ],
   "source": [
    "from sklearn.metrics import RocCurveDisplay\n",
    "\n",
    "RocCurveDisplay.from_predictions(np.where(target == 'spam', 1, 0), \n",
    "                                 np.where(clf.predict(data) == 'spam', 1, 0))"
   ]
  },
  {
   "cell_type": "code",
   "execution_count": 39,
   "metadata": {},
   "outputs": [
    {
     "data": {
      "text/html": [
       "<div>\n",
       "<style scoped>\n",
       "    .dataframe tbody tr th:only-of-type {\n",
       "        vertical-align: middle;\n",
       "    }\n",
       "\n",
       "    .dataframe tbody tr th {\n",
       "        vertical-align: top;\n",
       "    }\n",
       "\n",
       "    .dataframe thead th {\n",
       "        text-align: right;\n",
       "    }\n",
       "</style>\n",
       "<table border=\"1\" class=\"dataframe\">\n",
       "  <thead>\n",
       "    <tr style=\"text-align: right;\">\n",
       "      <th></th>\n",
       "      <th>subject</th>\n",
       "      <th>text</th>\n",
       "      <th>target</th>\n",
       "      <th>part</th>\n",
       "    </tr>\n",
       "  </thead>\n",
       "  <tbody>\n",
       "    <tr>\n",
       "      <th>0</th>\n",
       "      <td>14486</td>\n",
       "      <td>14486 80 196 64 1896 8962 14328 2130 16502 921...</td>\n",
       "      <td>spam</td>\n",
       "      <td>part1</td>\n",
       "    </tr>\n",
       "    <tr>\n",
       "      <th>1</th>\n",
       "      <td>12091 16398 21903 1408 62 2547 10546 3295 2410</td>\n",
       "      <td>86 86 86 86 86 86 86 86 86 86 86 86 86 86 86 8...</td>\n",
       "      <td>spam</td>\n",
       "      <td>part1</td>\n",
       "    </tr>\n",
       "    <tr>\n",
       "      <th>2</th>\n",
       "      <td>2056 118 4053 47</td>\n",
       "      <td>19071 80 2176 13472 9669 180 22481 6308 61 405...</td>\n",
       "      <td>spam</td>\n",
       "      <td>part1</td>\n",
       "    </tr>\n",
       "    <tr>\n",
       "      <th>3</th>\n",
       "      <td>1692 17345 10936 2130 9131 14544 2008 14471 22...</td>\n",
       "      <td>16735 16721 2843 1835 16857 76 76 76 76 76 76 ...</td>\n",
       "      <td>spam</td>\n",
       "      <td>part1</td>\n",
       "    </tr>\n",
       "    <tr>\n",
       "      <th>4</th>\n",
       "      <td>23340 1967 12372 1967 130 23172 9887</td>\n",
       "      <td>19054 7634 1847 2130 6049 130 9887 2130 20010 ...</td>\n",
       "      <td>legit</td>\n",
       "      <td>part1</td>\n",
       "    </tr>\n",
       "    <tr>\n",
       "      <th>...</th>\n",
       "      <td>...</td>\n",
       "      <td>...</td>\n",
       "      <td>...</td>\n",
       "      <td>...</td>\n",
       "    </tr>\n",
       "    <tr>\n",
       "      <th>1085</th>\n",
       "      <td>2056 118 11457 17524 15836 68 11521 47 47 47 4...</td>\n",
       "      <td>16733 19054 118 6306 118 86 86 17212 84 1672 8...</td>\n",
       "      <td>legit</td>\n",
       "      <td>part9</td>\n",
       "    </tr>\n",
       "    <tr>\n",
       "      <th>1086</th>\n",
       "      <td>4053 4074 4532</td>\n",
       "      <td>10179 1968 15193 1812 17345 21366 16502 17154 ...</td>\n",
       "      <td>spam</td>\n",
       "      <td>part9</td>\n",
       "    </tr>\n",
       "    <tr>\n",
       "      <th>1087</th>\n",
       "      <td>2056 118 21215 1662 1835 10470</td>\n",
       "      <td>284 13383 80 127 24731 2328 2130 130 21196 84 ...</td>\n",
       "      <td>legit</td>\n",
       "      <td>part9</td>\n",
       "    </tr>\n",
       "    <tr>\n",
       "      <th>1088</th>\n",
       "      <td>20787</td>\n",
       "      <td>183 180 205 205 191 214 227 219 180 219 190 22...</td>\n",
       "      <td>legit</td>\n",
       "      <td>part9</td>\n",
       "    </tr>\n",
       "    <tr>\n",
       "      <th>1089</th>\n",
       "      <td>14444 118</td>\n",
       "      <td>23422 22913 5987 13520 59 819 84 951 15845 492...</td>\n",
       "      <td>spam</td>\n",
       "      <td>part9</td>\n",
       "    </tr>\n",
       "  </tbody>\n",
       "</table>\n",
       "<p>1090 rows × 4 columns</p>\n",
       "</div>"
      ],
      "text/plain": [
       "                                                subject  \\\n",
       "0                                                 14486   \n",
       "1        12091 16398 21903 1408 62 2547 10546 3295 2410   \n",
       "2                                      2056 118 4053 47   \n",
       "3     1692 17345 10936 2130 9131 14544 2008 14471 22...   \n",
       "4                  23340 1967 12372 1967 130 23172 9887   \n",
       "...                                                 ...   \n",
       "1085  2056 118 11457 17524 15836 68 11521 47 47 47 4...   \n",
       "1086                                     4053 4074 4532   \n",
       "1087                     2056 118 21215 1662 1835 10470   \n",
       "1088                                              20787   \n",
       "1089                                          14444 118   \n",
       "\n",
       "                                                   text target   part  \n",
       "0     14486 80 196 64 1896 8962 14328 2130 16502 921...   spam  part1  \n",
       "1     86 86 86 86 86 86 86 86 86 86 86 86 86 86 86 8...   spam  part1  \n",
       "2     19071 80 2176 13472 9669 180 22481 6308 61 405...   spam  part1  \n",
       "3     16735 16721 2843 1835 16857 76 76 76 76 76 76 ...   spam  part1  \n",
       "4     19054 7634 1847 2130 6049 130 9887 2130 20010 ...  legit  part1  \n",
       "...                                                 ...    ...    ...  \n",
       "1085  16733 19054 118 6306 118 86 86 17212 84 1672 8...  legit  part9  \n",
       "1086  10179 1968 15193 1812 17345 21366 16502 17154 ...   spam  part9  \n",
       "1087  284 13383 80 127 24731 2328 2130 130 21196 84 ...  legit  part9  \n",
       "1088  183 180 205 205 191 214 227 219 180 219 190 22...  legit  part9  \n",
       "1089  23422 22913 5987 13520 59 819 84 951 15845 492...   spam  part9  \n",
       "\n",
       "[1090 rows x 4 columns]"
      ]
     },
     "execution_count": 39,
     "metadata": {},
     "output_type": "execute_result"
    }
   ],
   "source": [
    "X"
   ]
  },
  {
   "cell_type": "code",
   "execution_count": 40,
   "metadata": {},
   "outputs": [],
   "source": [
    "from sklearn.metrics import accuracy_score\n",
    "\n",
    "def grid_search(**params):\n",
    "    scores = []\n",
    "    for part in os.listdir('messages'):\n",
    "        train_data, test_data = X[X['part'] != part], X[X['part'] == part]\n",
    "\n",
    "        X_train, y_train = vectorize_data(train_data, text_columns, vectorizer=vectorizer)[0], train_data['target']\n",
    "        X_test, y_test = vectorize_data(test_data, text_columns, vectorizer=vectorizer)[0], test_data['target']\n",
    "\n",
    "        clf = SpamClassifier(**params)\n",
    "        clf.fit(X_train, y_train)\n",
    "        scores.append(accuracy_score(\n",
    "            np.where(y_test == 'spam', 1, 0), \n",
    "            np.where(clf.predict(X_test) == 'spam', 1, 0)\n",
    "        ))\n",
    "    return scores"
   ]
  },
  {
   "cell_type": "code",
   "execution_count": 41,
   "metadata": {},
   "outputs": [
    {
     "ename": "SyntaxError",
     "evalue": "invalid syntax (1235331270.py, line 1)",
     "output_type": "error",
     "traceback": [
      "\u001b[1;36m  Cell \u001b[1;32mIn[41], line 1\u001b[1;36m\u001b[0m\n\u001b[1;33m    for\u001b[0m\n\u001b[1;37m        ^\u001b[0m\n\u001b[1;31mSyntaxError\u001b[0m\u001b[1;31m:\u001b[0m invalid syntax\n"
     ]
    }
   ],
   "source": [
    "for "
   ]
  },
  {
   "cell_type": "code",
   "execution_count": null,
   "metadata": {},
   "outputs": [],
   "source": []
  }
 ],
 "metadata": {
  "kernelspec": {
   "display_name": "Python 3",
   "language": "python",
   "name": "python3"
  },
  "language_info": {
   "codemirror_mode": {
    "name": "ipython",
    "version": 3
   },
   "file_extension": ".py",
   "mimetype": "text/x-python",
   "name": "python",
   "nbconvert_exporter": "python",
   "pygments_lexer": "ipython3",
   "version": "3.12.1"
  }
 },
 "nbformat": 4,
 "nbformat_minor": 2
}
